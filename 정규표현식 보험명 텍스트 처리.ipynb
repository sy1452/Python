{
 "cells": [
  {
   "cell_type": "code",
   "execution_count": 3,
   "metadata": {},
   "outputs": [],
   "source": [
    "import pandas as pd\n",
    "import re"
   ]
  },
  {
   "cell_type": "code",
   "execution_count": 172,
   "metadata": {},
   "outputs": [],
   "source": [
    "df = pd.DataFrame((' 무배당 삼성화재 통합보험 수퍼플러스_(1160', '무배당 [ 삼성-화재 ] 건강보험 새,시대 건강파트','( 무 )건강보험_ NEW 보험', '無  장기보험'))"
   ]
  },
  {
   "cell_type": "code",
   "execution_count": 173,
   "metadata": {},
   "outputs": [],
   "source": [
    "df.columns = ['name']"
   ]
  },
  {
   "cell_type": "code",
   "execution_count": 174,
   "metadata": {},
   "outputs": [
    {
     "data": {
      "text/html": [
       "<div>\n",
       "<style scoped>\n",
       "    .dataframe tbody tr th:only-of-type {\n",
       "        vertical-align: middle;\n",
       "    }\n",
       "\n",
       "    .dataframe tbody tr th {\n",
       "        vertical-align: top;\n",
       "    }\n",
       "\n",
       "    .dataframe thead th {\n",
       "        text-align: right;\n",
       "    }\n",
       "</style>\n",
       "<table border=\"1\" class=\"dataframe\">\n",
       "  <thead>\n",
       "    <tr style=\"text-align: right;\">\n",
       "      <th></th>\n",
       "      <th>name</th>\n",
       "      <th>group</th>\n",
       "    </tr>\n",
       "  </thead>\n",
       "  <tbody>\n",
       "    <tr>\n",
       "      <th>0</th>\n",
       "      <td>무배당 삼성화재 통합보험 수퍼플러스_(1160</td>\n",
       "      <td>무배당 삼성화재 통합보험 수퍼플러스_(1160</td>\n",
       "    </tr>\n",
       "    <tr>\n",
       "      <th>1</th>\n",
       "      <td>무배당 [ 삼성-화재 ] 건강보험 새,시대 건강파트</td>\n",
       "      <td>무배당 [ 삼성-화재 ] 건강보험 새,시대 건강파트</td>\n",
       "    </tr>\n",
       "    <tr>\n",
       "      <th>2</th>\n",
       "      <td>( 무 )건강보험_ NEW 보험</td>\n",
       "      <td>( 무 )건강보험_ NEW 보험</td>\n",
       "    </tr>\n",
       "    <tr>\n",
       "      <th>3</th>\n",
       "      <td>無  장기보험</td>\n",
       "      <td>無  장기보험</td>\n",
       "    </tr>\n",
       "  </tbody>\n",
       "</table>\n",
       "</div>"
      ],
      "text/plain": [
       "                           name                         group\n",
       "0     무배당 삼성화재 통합보험 수퍼플러스_(1160     무배당 삼성화재 통합보험 수퍼플러스_(1160\n",
       "1  무배당 [ 삼성-화재 ] 건강보험 새,시대 건강파트  무배당 [ 삼성-화재 ] 건강보험 새,시대 건강파트\n",
       "2             ( 무 )건강보험_ NEW 보험             ( 무 )건강보험_ NEW 보험\n",
       "3                       無  장기보험                       無  장기보험"
      ]
     },
     "execution_count": 174,
     "metadata": {},
     "output_type": "execute_result"
    }
   ],
   "source": [
    "df['group'] = df.name\n",
    "df"
   ]
  },
  {
   "cell_type": "code",
   "execution_count": 175,
   "metadata": {},
   "outputs": [
    {
     "data": {
      "text/html": [
       "<div>\n",
       "<style scoped>\n",
       "    .dataframe tbody tr th:only-of-type {\n",
       "        vertical-align: middle;\n",
       "    }\n",
       "\n",
       "    .dataframe tbody tr th {\n",
       "        vertical-align: top;\n",
       "    }\n",
       "\n",
       "    .dataframe thead th {\n",
       "        text-align: right;\n",
       "    }\n",
       "</style>\n",
       "<table border=\"1\" class=\"dataframe\">\n",
       "  <thead>\n",
       "    <tr style=\"text-align: right;\">\n",
       "      <th></th>\n",
       "      <th>name</th>\n",
       "      <th>group</th>\n",
       "    </tr>\n",
       "  </thead>\n",
       "  <tbody>\n",
       "    <tr>\n",
       "      <th>0</th>\n",
       "      <td>무배당 삼성화재 통합보험 수퍼플러스_(1160</td>\n",
       "      <td>무배당삼성화재통합보험수퍼플러스_(1160</td>\n",
       "    </tr>\n",
       "    <tr>\n",
       "      <th>1</th>\n",
       "      <td>무배당 [ 삼성-화재 ] 건강보험 새,시대 건강파트</td>\n",
       "      <td>무배당[삼성-화재]건강보험새,시대건강파트</td>\n",
       "    </tr>\n",
       "    <tr>\n",
       "      <th>2</th>\n",
       "      <td>( 무 )건강보험_ NEW 보험</td>\n",
       "      <td>(무)건강보험_NEW보험</td>\n",
       "    </tr>\n",
       "    <tr>\n",
       "      <th>3</th>\n",
       "      <td>無  장기보험</td>\n",
       "      <td>無장기보험</td>\n",
       "    </tr>\n",
       "  </tbody>\n",
       "</table>\n",
       "</div>"
      ],
      "text/plain": [
       "                           name                   group\n",
       "0     무배당 삼성화재 통합보험 수퍼플러스_(1160  무배당삼성화재통합보험수퍼플러스_(1160\n",
       "1  무배당 [ 삼성-화재 ] 건강보험 새,시대 건강파트  무배당[삼성-화재]건강보험새,시대건강파트\n",
       "2             ( 무 )건강보험_ NEW 보험           (무)건강보험_NEW보험\n",
       "3                       無  장기보험                   無장기보험"
      ]
     },
     "execution_count": 175,
     "metadata": {},
     "output_type": "execute_result"
    }
   ],
   "source": [
    "# 공백 제거\n",
    "df.group = df.group.map(lambda x: re.sub(r'\\s', \"\", x))\n",
    "df"
   ]
  },
  {
   "cell_type": "code",
   "execution_count": 176,
   "metadata": {},
   "outputs": [
    {
     "data": {
      "text/html": [
       "<div>\n",
       "<style scoped>\n",
       "    .dataframe tbody tr th:only-of-type {\n",
       "        vertical-align: middle;\n",
       "    }\n",
       "\n",
       "    .dataframe tbody tr th {\n",
       "        vertical-align: top;\n",
       "    }\n",
       "\n",
       "    .dataframe thead th {\n",
       "        text-align: right;\n",
       "    }\n",
       "</style>\n",
       "<table border=\"1\" class=\"dataframe\">\n",
       "  <thead>\n",
       "    <tr style=\"text-align: right;\">\n",
       "      <th></th>\n",
       "      <th>name</th>\n",
       "      <th>group</th>\n",
       "    </tr>\n",
       "  </thead>\n",
       "  <tbody>\n",
       "    <tr>\n",
       "      <th>0</th>\n",
       "      <td>무배당 삼성화재 통합보험 수퍼플러스_(1160</td>\n",
       "      <td>무배당삼성화재통합보험수퍼플러스1160</td>\n",
       "    </tr>\n",
       "    <tr>\n",
       "      <th>1</th>\n",
       "      <td>무배당 [ 삼성-화재 ] 건강보험 새,시대 건강파트</td>\n",
       "      <td>무배당삼성화재건강보험새시대건강파트</td>\n",
       "    </tr>\n",
       "    <tr>\n",
       "      <th>2</th>\n",
       "      <td>( 무 )건강보험_ NEW 보험</td>\n",
       "      <td>무건강보험NEW보험</td>\n",
       "    </tr>\n",
       "    <tr>\n",
       "      <th>3</th>\n",
       "      <td>無  장기보험</td>\n",
       "      <td>無장기보험</td>\n",
       "    </tr>\n",
       "  </tbody>\n",
       "</table>\n",
       "</div>"
      ],
      "text/plain": [
       "                           name                 group\n",
       "0     무배당 삼성화재 통합보험 수퍼플러스_(1160  무배당삼성화재통합보험수퍼플러스1160\n",
       "1  무배당 [ 삼성-화재 ] 건강보험 새,시대 건강파트    무배당삼성화재건강보험새시대건강파트\n",
       "2             ( 무 )건강보험_ NEW 보험            무건강보험NEW보험\n",
       "3                       無  장기보험                 無장기보험"
      ]
     },
     "execution_count": 176,
     "metadata": {},
     "output_type": "execute_result"
    }
   ],
   "source": [
    "## 특수 문자 제거\n",
    "df.group = df.group.map(lambda x: re.sub(r'[\\-\\[\\]\\(\\)\\_\\,\\+]', \"\", x))\n",
    "df"
   ]
  },
  {
   "cell_type": "code",
   "execution_count": 177,
   "metadata": {},
   "outputs": [],
   "source": [
    "dic ={'無':'무', 'NEW':'뉴', '무배당':'무'}"
   ]
  },
  {
   "cell_type": "code",
   "execution_count": 178,
   "metadata": {},
   "outputs": [],
   "source": [
    "# 사전값 대체\n",
    "for key,value in dic.items():\n",
    "    df.group = df.group.map(lambda x: x.replace(key, value) )"
   ]
  },
  {
   "cell_type": "code",
   "execution_count": 179,
   "metadata": {},
   "outputs": [
    {
     "data": {
      "text/html": [
       "<div>\n",
       "<style scoped>\n",
       "    .dataframe tbody tr th:only-of-type {\n",
       "        vertical-align: middle;\n",
       "    }\n",
       "\n",
       "    .dataframe tbody tr th {\n",
       "        vertical-align: top;\n",
       "    }\n",
       "\n",
       "    .dataframe thead th {\n",
       "        text-align: right;\n",
       "    }\n",
       "</style>\n",
       "<table border=\"1\" class=\"dataframe\">\n",
       "  <thead>\n",
       "    <tr style=\"text-align: right;\">\n",
       "      <th></th>\n",
       "      <th>name</th>\n",
       "      <th>group</th>\n",
       "    </tr>\n",
       "  </thead>\n",
       "  <tbody>\n",
       "    <tr>\n",
       "      <th>0</th>\n",
       "      <td>무배당 삼성화재 통합보험 수퍼플러스_(1160</td>\n",
       "      <td>무삼성화재통합보험수퍼플러스1160</td>\n",
       "    </tr>\n",
       "    <tr>\n",
       "      <th>1</th>\n",
       "      <td>무배당 [ 삼성-화재 ] 건강보험 새,시대 건강파트</td>\n",
       "      <td>무삼성화재건강보험새시대건강파트</td>\n",
       "    </tr>\n",
       "    <tr>\n",
       "      <th>2</th>\n",
       "      <td>( 무 )건강보험_ NEW 보험</td>\n",
       "      <td>무건강보험뉴보험</td>\n",
       "    </tr>\n",
       "    <tr>\n",
       "      <th>3</th>\n",
       "      <td>無  장기보험</td>\n",
       "      <td>무장기보험</td>\n",
       "    </tr>\n",
       "  </tbody>\n",
       "</table>\n",
       "</div>"
      ],
      "text/plain": [
       "                           name               group\n",
       "0     무배당 삼성화재 통합보험 수퍼플러스_(1160  무삼성화재통합보험수퍼플러스1160\n",
       "1  무배당 [ 삼성-화재 ] 건강보험 새,시대 건강파트    무삼성화재건강보험새시대건강파트\n",
       "2             ( 무 )건강보험_ NEW 보험            무건강보험뉴보험\n",
       "3                       無  장기보험               무장기보험"
      ]
     },
     "execution_count": 179,
     "metadata": {},
     "output_type": "execute_result"
    }
   ],
   "source": [
    "df"
   ]
  },
  {
   "cell_type": "code",
   "execution_count": 180,
   "metadata": {},
   "outputs": [],
   "source": [
    "# 대분류\n",
    "class_list= ['무삼성화재통합보험수퍼플러스','무삼성화재건강보험','무건강보험','무장기보험']"
   ]
  },
  {
   "cell_type": "code",
   "execution_count": 181,
   "metadata": {},
   "outputs": [],
   "source": [
    "df['group_1'] = df.group"
   ]
  },
  {
   "cell_type": "code",
   "execution_count": 182,
   "metadata": {},
   "outputs": [
    {
     "data": {
      "text/html": [
       "<div>\n",
       "<style scoped>\n",
       "    .dataframe tbody tr th:only-of-type {\n",
       "        vertical-align: middle;\n",
       "    }\n",
       "\n",
       "    .dataframe tbody tr th {\n",
       "        vertical-align: top;\n",
       "    }\n",
       "\n",
       "    .dataframe thead th {\n",
       "        text-align: right;\n",
       "    }\n",
       "</style>\n",
       "<table border=\"1\" class=\"dataframe\">\n",
       "  <thead>\n",
       "    <tr style=\"text-align: right;\">\n",
       "      <th></th>\n",
       "      <th>name</th>\n",
       "      <th>group</th>\n",
       "      <th>group_1</th>\n",
       "    </tr>\n",
       "  </thead>\n",
       "  <tbody>\n",
       "    <tr>\n",
       "      <th>0</th>\n",
       "      <td>무배당 삼성화재 통합보험 수퍼플러스_(1160</td>\n",
       "      <td>무삼성화재통합보험수퍼플러스1160</td>\n",
       "      <td>무삼성화재통합보험수퍼플러스1160</td>\n",
       "    </tr>\n",
       "    <tr>\n",
       "      <th>1</th>\n",
       "      <td>무배당 [ 삼성-화재 ] 건강보험 새,시대 건강파트</td>\n",
       "      <td>무삼성화재건강보험새시대건강파트</td>\n",
       "      <td>무삼성화재건강보험새시대건강파트</td>\n",
       "    </tr>\n",
       "    <tr>\n",
       "      <th>2</th>\n",
       "      <td>( 무 )건강보험_ NEW 보험</td>\n",
       "      <td>무건강보험뉴보험</td>\n",
       "      <td>무건강보험뉴보험</td>\n",
       "    </tr>\n",
       "    <tr>\n",
       "      <th>3</th>\n",
       "      <td>無  장기보험</td>\n",
       "      <td>무장기보험</td>\n",
       "      <td>무장기보험</td>\n",
       "    </tr>\n",
       "  </tbody>\n",
       "</table>\n",
       "</div>"
      ],
      "text/plain": [
       "                           name               group             group_1\n",
       "0     무배당 삼성화재 통합보험 수퍼플러스_(1160  무삼성화재통합보험수퍼플러스1160  무삼성화재통합보험수퍼플러스1160\n",
       "1  무배당 [ 삼성-화재 ] 건강보험 새,시대 건강파트    무삼성화재건강보험새시대건강파트    무삼성화재건강보험새시대건강파트\n",
       "2             ( 무 )건강보험_ NEW 보험            무건강보험뉴보험            무건강보험뉴보험\n",
       "3                       無  장기보험               무장기보험               무장기보험"
      ]
     },
     "execution_count": 182,
     "metadata": {},
     "output_type": "execute_result"
    }
   ],
   "source": [
    "df"
   ]
  },
  {
   "cell_type": "code",
   "execution_count": 183,
   "metadata": {},
   "outputs": [],
   "source": [
    "for k in class_list:\n",
    "    df.group_1 = df.group_1.map(lambda x: k if x.startswith(k) else x)"
   ]
  },
  {
   "cell_type": "code",
   "execution_count": 184,
   "metadata": {},
   "outputs": [
    {
     "data": {
      "text/html": [
       "<div>\n",
       "<style scoped>\n",
       "    .dataframe tbody tr th:only-of-type {\n",
       "        vertical-align: middle;\n",
       "    }\n",
       "\n",
       "    .dataframe tbody tr th {\n",
       "        vertical-align: top;\n",
       "    }\n",
       "\n",
       "    .dataframe thead th {\n",
       "        text-align: right;\n",
       "    }\n",
       "</style>\n",
       "<table border=\"1\" class=\"dataframe\">\n",
       "  <thead>\n",
       "    <tr style=\"text-align: right;\">\n",
       "      <th></th>\n",
       "      <th>name</th>\n",
       "      <th>group</th>\n",
       "      <th>group_1</th>\n",
       "    </tr>\n",
       "  </thead>\n",
       "  <tbody>\n",
       "    <tr>\n",
       "      <th>0</th>\n",
       "      <td>무배당 삼성화재 통합보험 수퍼플러스_(1160</td>\n",
       "      <td>무삼성화재통합보험수퍼플러스1160</td>\n",
       "      <td>무삼성화재통합보험수퍼플러스</td>\n",
       "    </tr>\n",
       "    <tr>\n",
       "      <th>1</th>\n",
       "      <td>무배당 [ 삼성-화재 ] 건강보험 새,시대 건강파트</td>\n",
       "      <td>무삼성화재건강보험새시대건강파트</td>\n",
       "      <td>무삼성화재건강보험</td>\n",
       "    </tr>\n",
       "    <tr>\n",
       "      <th>2</th>\n",
       "      <td>( 무 )건강보험_ NEW 보험</td>\n",
       "      <td>무건강보험뉴보험</td>\n",
       "      <td>무건강보험</td>\n",
       "    </tr>\n",
       "    <tr>\n",
       "      <th>3</th>\n",
       "      <td>無  장기보험</td>\n",
       "      <td>무장기보험</td>\n",
       "      <td>무장기보험</td>\n",
       "    </tr>\n",
       "  </tbody>\n",
       "</table>\n",
       "</div>"
      ],
      "text/plain": [
       "                           name               group         group_1\n",
       "0     무배당 삼성화재 통합보험 수퍼플러스_(1160  무삼성화재통합보험수퍼플러스1160  무삼성화재통합보험수퍼플러스\n",
       "1  무배당 [ 삼성-화재 ] 건강보험 새,시대 건강파트    무삼성화재건강보험새시대건강파트       무삼성화재건강보험\n",
       "2             ( 무 )건강보험_ NEW 보험            무건강보험뉴보험           무건강보험\n",
       "3                       無  장기보험               무장기보험           무장기보험"
      ]
     },
     "execution_count": 184,
     "metadata": {},
     "output_type": "execute_result"
    }
   ],
   "source": [
    "df"
   ]
  },
  {
   "cell_type": "code",
   "execution_count": 185,
   "metadata": {},
   "outputs": [],
   "source": [
    "df['group_2'] = df.group"
   ]
  },
  {
   "cell_type": "code",
   "execution_count": 186,
   "metadata": {},
   "outputs": [
    {
     "data": {
      "text/html": [
       "<div>\n",
       "<style scoped>\n",
       "    .dataframe tbody tr th:only-of-type {\n",
       "        vertical-align: middle;\n",
       "    }\n",
       "\n",
       "    .dataframe tbody tr th {\n",
       "        vertical-align: top;\n",
       "    }\n",
       "\n",
       "    .dataframe thead th {\n",
       "        text-align: right;\n",
       "    }\n",
       "</style>\n",
       "<table border=\"1\" class=\"dataframe\">\n",
       "  <thead>\n",
       "    <tr style=\"text-align: right;\">\n",
       "      <th></th>\n",
       "      <th>name</th>\n",
       "      <th>group</th>\n",
       "      <th>group_1</th>\n",
       "      <th>group_2</th>\n",
       "    </tr>\n",
       "  </thead>\n",
       "  <tbody>\n",
       "    <tr>\n",
       "      <th>0</th>\n",
       "      <td>무배당 삼성화재 통합보험 수퍼플러스_(1160</td>\n",
       "      <td>무삼성화재통합보험수퍼플러스1160</td>\n",
       "      <td>무삼성화재통합보험수퍼플러스</td>\n",
       "      <td>무삼성화재통합보험수퍼플러스1160</td>\n",
       "    </tr>\n",
       "    <tr>\n",
       "      <th>1</th>\n",
       "      <td>무배당 [ 삼성-화재 ] 건강보험 새,시대 건강파트</td>\n",
       "      <td>무삼성화재건강보험새시대건강파트</td>\n",
       "      <td>무삼성화재건강보험</td>\n",
       "      <td>무삼성화재건강보험새시대건강파트</td>\n",
       "    </tr>\n",
       "    <tr>\n",
       "      <th>2</th>\n",
       "      <td>( 무 )건강보험_ NEW 보험</td>\n",
       "      <td>무건강보험뉴보험</td>\n",
       "      <td>무건강보험</td>\n",
       "      <td>무건강보험뉴보험</td>\n",
       "    </tr>\n",
       "    <tr>\n",
       "      <th>3</th>\n",
       "      <td>無  장기보험</td>\n",
       "      <td>무장기보험</td>\n",
       "      <td>무장기보험</td>\n",
       "      <td>무장기보험</td>\n",
       "    </tr>\n",
       "  </tbody>\n",
       "</table>\n",
       "</div>"
      ],
      "text/plain": [
       "                           name               group         group_1  \\\n",
       "0     무배당 삼성화재 통합보험 수퍼플러스_(1160  무삼성화재통합보험수퍼플러스1160  무삼성화재통합보험수퍼플러스   \n",
       "1  무배당 [ 삼성-화재 ] 건강보험 새,시대 건강파트    무삼성화재건강보험새시대건강파트       무삼성화재건강보험   \n",
       "2             ( 무 )건강보험_ NEW 보험            무건강보험뉴보험           무건강보험   \n",
       "3                       無  장기보험               무장기보험           무장기보험   \n",
       "\n",
       "              group_2  \n",
       "0  무삼성화재통합보험수퍼플러스1160  \n",
       "1    무삼성화재건강보험새시대건강파트  \n",
       "2            무건강보험뉴보험  \n",
       "3               무장기보험  "
      ]
     },
     "execution_count": 186,
     "metadata": {},
     "output_type": "execute_result"
    }
   ],
   "source": [
    "df"
   ]
  },
  {
   "cell_type": "code",
   "execution_count": 187,
   "metadata": {},
   "outputs": [],
   "source": [
    "df.group_2 = df.apply(lambda x: x.group.split(x.group_1)[1], axis = 1)"
   ]
  },
  {
   "cell_type": "code",
   "execution_count": 188,
   "metadata": {},
   "outputs": [
    {
     "data": {
      "text/html": [
       "<div>\n",
       "<style scoped>\n",
       "    .dataframe tbody tr th:only-of-type {\n",
       "        vertical-align: middle;\n",
       "    }\n",
       "\n",
       "    .dataframe tbody tr th {\n",
       "        vertical-align: top;\n",
       "    }\n",
       "\n",
       "    .dataframe thead th {\n",
       "        text-align: right;\n",
       "    }\n",
       "</style>\n",
       "<table border=\"1\" class=\"dataframe\">\n",
       "  <thead>\n",
       "    <tr style=\"text-align: right;\">\n",
       "      <th></th>\n",
       "      <th>name</th>\n",
       "      <th>group</th>\n",
       "      <th>group_1</th>\n",
       "      <th>group_2</th>\n",
       "    </tr>\n",
       "  </thead>\n",
       "  <tbody>\n",
       "    <tr>\n",
       "      <th>0</th>\n",
       "      <td>무배당 삼성화재 통합보험 수퍼플러스_(1160</td>\n",
       "      <td>무삼성화재통합보험수퍼플러스1160</td>\n",
       "      <td>무삼성화재통합보험수퍼플러스</td>\n",
       "      <td>1160</td>\n",
       "    </tr>\n",
       "    <tr>\n",
       "      <th>1</th>\n",
       "      <td>무배당 [ 삼성-화재 ] 건강보험 새,시대 건강파트</td>\n",
       "      <td>무삼성화재건강보험새시대건강파트</td>\n",
       "      <td>무삼성화재건강보험</td>\n",
       "      <td>새시대건강파트</td>\n",
       "    </tr>\n",
       "    <tr>\n",
       "      <th>2</th>\n",
       "      <td>( 무 )건강보험_ NEW 보험</td>\n",
       "      <td>무건강보험뉴보험</td>\n",
       "      <td>무건강보험</td>\n",
       "      <td>뉴보험</td>\n",
       "    </tr>\n",
       "    <tr>\n",
       "      <th>3</th>\n",
       "      <td>無  장기보험</td>\n",
       "      <td>무장기보험</td>\n",
       "      <td>무장기보험</td>\n",
       "      <td></td>\n",
       "    </tr>\n",
       "  </tbody>\n",
       "</table>\n",
       "</div>"
      ],
      "text/plain": [
       "                           name               group         group_1  group_2\n",
       "0     무배당 삼성화재 통합보험 수퍼플러스_(1160  무삼성화재통합보험수퍼플러스1160  무삼성화재통합보험수퍼플러스     1160\n",
       "1  무배당 [ 삼성-화재 ] 건강보험 새,시대 건강파트    무삼성화재건강보험새시대건강파트       무삼성화재건강보험  새시대건강파트\n",
       "2             ( 무 )건강보험_ NEW 보험            무건강보험뉴보험           무건강보험      뉴보험\n",
       "3                       無  장기보험               무장기보험           무장기보험         "
      ]
     },
     "execution_count": 188,
     "metadata": {},
     "output_type": "execute_result"
    }
   ],
   "source": [
    "df"
   ]
  }
 ],
 "metadata": {
  "kernelspec": {
   "display_name": "Python 3",
   "language": "python",
   "name": "python3"
  },
  "language_info": {
   "codemirror_mode": {
    "name": "ipython",
    "version": 3
   },
   "file_extension": ".py",
   "mimetype": "text/x-python",
   "name": "python",
   "nbconvert_exporter": "python",
   "pygments_lexer": "ipython3",
   "version": "3.8.3"
  }
 },
 "nbformat": 4,
 "nbformat_minor": 4
}