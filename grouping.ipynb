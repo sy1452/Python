{
 "metadata": {
  "language_info": {
   "codemirror_mode": {
    "name": "ipython",
    "version": 3
   },
   "file_extension": ".py",
   "mimetype": "text/x-python",
   "name": "python",
   "nbconvert_exporter": "python",
   "pygments_lexer": "ipython3",
   "version": "3.8.3-final"
  },
  "orig_nbformat": 2,
  "kernelspec": {
   "name": "python3",
   "display_name": "Python 3",
   "language": "python"
  }
 },
 "nbformat": 4,
 "nbformat_minor": 2,
 "cells": [
  {
   "cell_type": "code",
   "execution_count": 26,
   "metadata": {},
   "outputs": [],
   "source": [
    "import pandas as pd\n",
    "import re"
   ]
  },
  {
   "cell_type": "code",
   "execution_count": 46,
   "metadata": {},
   "outputs": [],
   "source": [
    "ls = ['무)삼성화재', '미래에셋(무배당)', '동부화재', '소망화재(무배당', '가나다라(무)']"
   ]
  },
  {
   "cell_type": "code",
   "execution_count": 47,
   "metadata": {},
   "outputs": [],
   "source": [
    "df = pd.DataFrame(ls, columns=['ins_name'])"
   ]
  },
  {
   "cell_type": "code",
   "execution_count": 48,
   "metadata": {},
   "outputs": [
    {
     "output_type": "execute_result",
     "data": {
      "text/plain": [
       "    ins_name\n",
       "0     무)삼성화재\n",
       "1  미래에셋(무배당)\n",
       "2       동부화재\n",
       "3   소망화재(무배당\n",
       "4    가나다라(무)"
      ],
      "text/html": "<div>\n<style scoped>\n    .dataframe tbody tr th:only-of-type {\n        vertical-align: middle;\n    }\n\n    .dataframe tbody tr th {\n        vertical-align: top;\n    }\n\n    .dataframe thead th {\n        text-align: right;\n    }\n</style>\n<table border=\"1\" class=\"dataframe\">\n  <thead>\n    <tr style=\"text-align: right;\">\n      <th></th>\n      <th>ins_name</th>\n    </tr>\n  </thead>\n  <tbody>\n    <tr>\n      <th>0</th>\n      <td>무)삼성화재</td>\n    </tr>\n    <tr>\n      <th>1</th>\n      <td>미래에셋(무배당)</td>\n    </tr>\n    <tr>\n      <th>2</th>\n      <td>동부화재</td>\n    </tr>\n    <tr>\n      <th>3</th>\n      <td>소망화재(무배당</td>\n    </tr>\n    <tr>\n      <th>4</th>\n      <td>가나다라(무)</td>\n    </tr>\n  </tbody>\n</table>\n</div>"
     },
     "metadata": {},
     "execution_count": 48
    }
   ],
   "source": [
    "df"
   ]
  },
  {
   "cell_type": "code",
   "execution_count": 49,
   "metadata": {},
   "outputs": [],
   "source": [
    "df.ins_name = df.ins_name.map(lambda x: '무배당' + str(x) if '(무)' in x else x)\n",
    "df.ins_name = df.ins_name.str.replace(r'\\(\\무\\)', ' ')\n"
   ]
  },
  {
   "cell_type": "code",
   "execution_count": 51,
   "metadata": {},
   "outputs": [],
   "source": [
    "df.ins_name = df.ins_name.map(lambda x: '무배당' + str(x) if '(무배당)' in x else x)\n",
    "df.ins_name = df.ins_name.str.replace(r'\\(\\무배당\\)', ' ')"
   ]
  },
  {
   "cell_type": "code",
   "execution_count": 53,
   "metadata": {},
   "outputs": [],
   "source": [
    "df.ins_name = df.ins_name.map(lambda x: '무배당' + str(x) if '(무배당' in x else x)\n",
    "df.ins_name = df.ins_name.str.replace(r'\\(\\무배당', ' ')\n"
   ]
  },
  {
   "cell_type": "code",
   "execution_count": 55,
   "metadata": {},
   "outputs": [],
   "source": [
    "df.ins_name = df.ins_name.map(lambda x: '무배당' + str(x) if '무)' in x else x)\n",
    "df.ins_name = df.ins_name.str.replace(r'\\무\\)', ' ')"
   ]
  },
  {
   "cell_type": "code",
   "execution_count": 56,
   "metadata": {},
   "outputs": [
    {
     "output_type": "execute_result",
     "data": {
      "text/plain": [
       "   ins_name\n",
       "0  무배당 삼성화재\n",
       "1  무배당미래에셋 \n",
       "2      동부화재\n",
       "3  무배당소망화재 \n",
       "4  무배당가나다라 "
      ],
      "text/html": "<div>\n<style scoped>\n    .dataframe tbody tr th:only-of-type {\n        vertical-align: middle;\n    }\n\n    .dataframe tbody tr th {\n        vertical-align: top;\n    }\n\n    .dataframe thead th {\n        text-align: right;\n    }\n</style>\n<table border=\"1\" class=\"dataframe\">\n  <thead>\n    <tr style=\"text-align: right;\">\n      <th></th>\n      <th>ins_name</th>\n    </tr>\n  </thead>\n  <tbody>\n    <tr>\n      <th>0</th>\n      <td>무배당 삼성화재</td>\n    </tr>\n    <tr>\n      <th>1</th>\n      <td>무배당미래에셋</td>\n    </tr>\n    <tr>\n      <th>2</th>\n      <td>동부화재</td>\n    </tr>\n    <tr>\n      <th>3</th>\n      <td>무배당소망화재</td>\n    </tr>\n    <tr>\n      <th>4</th>\n      <td>무배당가나다라</td>\n    </tr>\n  </tbody>\n</table>\n</div>"
     },
     "metadata": {},
     "execution_count": 56
    }
   ],
   "source": [
    "df"
   ]
  },
  {
   "cell_type": "code",
   "execution_count": 57,
   "metadata": {},
   "outputs": [],
   "source": [
    "df['ins_code'] = [1,2,3,4,5]"
   ]
  },
  {
   "cell_type": "code",
   "execution_count": 58,
   "metadata": {},
   "outputs": [
    {
     "output_type": "execute_result",
     "data": {
      "text/plain": [
       "   ins_name  ins_code\n",
       "0  무배당 삼성화재         1\n",
       "1  무배당미래에셋          2\n",
       "2      동부화재         3\n",
       "3  무배당소망화재          4\n",
       "4  무배당가나다라          5"
      ],
      "text/html": "<div>\n<style scoped>\n    .dataframe tbody tr th:only-of-type {\n        vertical-align: middle;\n    }\n\n    .dataframe tbody tr th {\n        vertical-align: top;\n    }\n\n    .dataframe thead th {\n        text-align: right;\n    }\n</style>\n<table border=\"1\" class=\"dataframe\">\n  <thead>\n    <tr style=\"text-align: right;\">\n      <th></th>\n      <th>ins_name</th>\n      <th>ins_code</th>\n    </tr>\n  </thead>\n  <tbody>\n    <tr>\n      <th>0</th>\n      <td>무배당 삼성화재</td>\n      <td>1</td>\n    </tr>\n    <tr>\n      <th>1</th>\n      <td>무배당미래에셋</td>\n      <td>2</td>\n    </tr>\n    <tr>\n      <th>2</th>\n      <td>동부화재</td>\n      <td>3</td>\n    </tr>\n    <tr>\n      <th>3</th>\n      <td>무배당소망화재</td>\n      <td>4</td>\n    </tr>\n    <tr>\n      <th>4</th>\n      <td>무배당가나다라</td>\n      <td>5</td>\n    </tr>\n  </tbody>\n</table>\n</div>"
     },
     "metadata": {},
     "execution_count": 58
    }
   ],
   "source": [
    "df"
   ]
  },
  {
   "cell_type": "code",
   "execution_count": 69,
   "metadata": {},
   "outputs": [
    {
     "output_type": "stream",
     "name": "stdout",
     "text": [
      "무배당 삼성화재\n무배당미래에셋 \n동부화재\n무배당소망화재 \n무배당가나다라 \n"
     ]
    }
   ],
   "source": [
    "for index, row in df.iterrows():\n",
    "    print(row.ins_name)"
   ]
  },
  {
   "cell_type": "code",
   "execution_count": null,
   "metadata": {},
   "outputs": [],
   "source": [
    "conn =\n",
    "cursor = conn.cursor()\n",
    "\n",
    "for index, row in df.iterrows:\n",
    "    cursor.execute(\"insert into tb\")"
   ]
  },
  {
   "cell_type": "code",
   "execution_count": null,
   "metadata": {},
   "outputs": [],
   "source": [
    "# spark 에서\n",
    "df.write.saveAsTable(\"tb_df\")\n",
    "df.write.mode(SaveMode.Overwrite).saveAsTable('tb_df')"
   ]
  },
  {
   "cell_type": "code",
   "execution_count": null,
   "metadata": {},
   "outputs": [],
   "source": [
    "# spark 에서 2\n",
    "df.createOrReplaceTempView('mytempTable')\n",
    "sqlContext.sql(\"create table mytable as select * from mytempTable\")"
   ]
  },
  {
   "cell_type": "code",
   "execution_count": null,
   "metadata": {},
   "outputs": [],
   "source": [
    "\"insert into tb_df select * from df\""
   ]
  },
  {
   "cell_type": "code",
   "execution_count": null,
   "metadata": {},
   "outputs": [],
   "source": [
    "LOAD DATA LOCAL INPATH 'filepath' INTO TABLE tb_df"
   ]
  },
  {
   "cell_type": "code",
   "execution_count": null,
   "metadata": {},
   "outputs": [],
   "source": []
  },
  {
   "cell_type": "code",
   "execution_count": null,
   "metadata": {},
   "outputs": [],
   "source": []
  }
 ]
}